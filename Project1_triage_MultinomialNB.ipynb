{
  "nbformat": 4,
  "nbformat_minor": 0,
  "metadata": {
    "colab": {
      "provenance": [],
      "authorship_tag": "ABX9TyP7RMMljdS8jyxQX2RaGcYL"
    },
    "kernelspec": {
      "name": "python3",
      "display_name": "Python 3"
    },
    "language_info": {
      "name": "python"
    }
  },
  "cells": [
    {
      "cell_type": "markdown",
      "source": [
        "# Triage Data Set\n",
        "\n",
        "#### dev.csv is the test data, train.csv is the train data"
      ],
      "metadata": {
        "id": "NfB_u7RYa28m"
      }
    },
    {
      "cell_type": "code",
      "execution_count": 3,
      "metadata": {
        "id": "kGXyzgbmilIP",
        "colab": {
          "base_uri": "https://localhost:8080/",
          "height": 108
        },
        "outputId": "74c03e09-798f-43cb-8c70-be944fe76d84"
      },
      "outputs": [
        {
          "output_type": "display_data",
          "data": {
            "text/plain": [
              "<IPython.core.display.HTML object>"
            ],
            "text/html": [
              "\n",
              "     <input type=\"file\" id=\"files-34cbb0fc-d9e5-4c3e-a803-7a274ace9c10\" name=\"files[]\" multiple disabled\n",
              "        style=\"border:none\" />\n",
              "     <output id=\"result-34cbb0fc-d9e5-4c3e-a803-7a274ace9c10\">\n",
              "      Upload widget is only available when the cell has been executed in the\n",
              "      current browser session. Please rerun this cell to enable.\n",
              "      </output>\n",
              "      <script>// Copyright 2017 Google LLC\n",
              "//\n",
              "// Licensed under the Apache License, Version 2.0 (the \"License\");\n",
              "// you may not use this file except in compliance with the License.\n",
              "// You may obtain a copy of the License at\n",
              "//\n",
              "//      http://www.apache.org/licenses/LICENSE-2.0\n",
              "//\n",
              "// Unless required by applicable law or agreed to in writing, software\n",
              "// distributed under the License is distributed on an \"AS IS\" BASIS,\n",
              "// WITHOUT WARRANTIES OR CONDITIONS OF ANY KIND, either express or implied.\n",
              "// See the License for the specific language governing permissions and\n",
              "// limitations under the License.\n",
              "\n",
              "/**\n",
              " * @fileoverview Helpers for google.colab Python module.\n",
              " */\n",
              "(function(scope) {\n",
              "function span(text, styleAttributes = {}) {\n",
              "  const element = document.createElement('span');\n",
              "  element.textContent = text;\n",
              "  for (const key of Object.keys(styleAttributes)) {\n",
              "    element.style[key] = styleAttributes[key];\n",
              "  }\n",
              "  return element;\n",
              "}\n",
              "\n",
              "// Max number of bytes which will be uploaded at a time.\n",
              "const MAX_PAYLOAD_SIZE = 100 * 1024;\n",
              "\n",
              "function _uploadFiles(inputId, outputId) {\n",
              "  const steps = uploadFilesStep(inputId, outputId);\n",
              "  const outputElement = document.getElementById(outputId);\n",
              "  // Cache steps on the outputElement to make it available for the next call\n",
              "  // to uploadFilesContinue from Python.\n",
              "  outputElement.steps = steps;\n",
              "\n",
              "  return _uploadFilesContinue(outputId);\n",
              "}\n",
              "\n",
              "// This is roughly an async generator (not supported in the browser yet),\n",
              "// where there are multiple asynchronous steps and the Python side is going\n",
              "// to poll for completion of each step.\n",
              "// This uses a Promise to block the python side on completion of each step,\n",
              "// then passes the result of the previous step as the input to the next step.\n",
              "function _uploadFilesContinue(outputId) {\n",
              "  const outputElement = document.getElementById(outputId);\n",
              "  const steps = outputElement.steps;\n",
              "\n",
              "  const next = steps.next(outputElement.lastPromiseValue);\n",
              "  return Promise.resolve(next.value.promise).then((value) => {\n",
              "    // Cache the last promise value to make it available to the next\n",
              "    // step of the generator.\n",
              "    outputElement.lastPromiseValue = value;\n",
              "    return next.value.response;\n",
              "  });\n",
              "}\n",
              "\n",
              "/**\n",
              " * Generator function which is called between each async step of the upload\n",
              " * process.\n",
              " * @param {string} inputId Element ID of the input file picker element.\n",
              " * @param {string} outputId Element ID of the output display.\n",
              " * @return {!Iterable<!Object>} Iterable of next steps.\n",
              " */\n",
              "function* uploadFilesStep(inputId, outputId) {\n",
              "  const inputElement = document.getElementById(inputId);\n",
              "  inputElement.disabled = false;\n",
              "\n",
              "  const outputElement = document.getElementById(outputId);\n",
              "  outputElement.innerHTML = '';\n",
              "\n",
              "  const pickedPromise = new Promise((resolve) => {\n",
              "    inputElement.addEventListener('change', (e) => {\n",
              "      resolve(e.target.files);\n",
              "    });\n",
              "  });\n",
              "\n",
              "  const cancel = document.createElement('button');\n",
              "  inputElement.parentElement.appendChild(cancel);\n",
              "  cancel.textContent = 'Cancel upload';\n",
              "  const cancelPromise = new Promise((resolve) => {\n",
              "    cancel.onclick = () => {\n",
              "      resolve(null);\n",
              "    };\n",
              "  });\n",
              "\n",
              "  // Wait for the user to pick the files.\n",
              "  const files = yield {\n",
              "    promise: Promise.race([pickedPromise, cancelPromise]),\n",
              "    response: {\n",
              "      action: 'starting',\n",
              "    }\n",
              "  };\n",
              "\n",
              "  cancel.remove();\n",
              "\n",
              "  // Disable the input element since further picks are not allowed.\n",
              "  inputElement.disabled = true;\n",
              "\n",
              "  if (!files) {\n",
              "    return {\n",
              "      response: {\n",
              "        action: 'complete',\n",
              "      }\n",
              "    };\n",
              "  }\n",
              "\n",
              "  for (const file of files) {\n",
              "    const li = document.createElement('li');\n",
              "    li.append(span(file.name, {fontWeight: 'bold'}));\n",
              "    li.append(span(\n",
              "        `(${file.type || 'n/a'}) - ${file.size} bytes, ` +\n",
              "        `last modified: ${\n",
              "            file.lastModifiedDate ? file.lastModifiedDate.toLocaleDateString() :\n",
              "                                    'n/a'} - `));\n",
              "    const percent = span('0% done');\n",
              "    li.appendChild(percent);\n",
              "\n",
              "    outputElement.appendChild(li);\n",
              "\n",
              "    const fileDataPromise = new Promise((resolve) => {\n",
              "      const reader = new FileReader();\n",
              "      reader.onload = (e) => {\n",
              "        resolve(e.target.result);\n",
              "      };\n",
              "      reader.readAsArrayBuffer(file);\n",
              "    });\n",
              "    // Wait for the data to be ready.\n",
              "    let fileData = yield {\n",
              "      promise: fileDataPromise,\n",
              "      response: {\n",
              "        action: 'continue',\n",
              "      }\n",
              "    };\n",
              "\n",
              "    // Use a chunked sending to avoid message size limits. See b/62115660.\n",
              "    let position = 0;\n",
              "    do {\n",
              "      const length = Math.min(fileData.byteLength - position, MAX_PAYLOAD_SIZE);\n",
              "      const chunk = new Uint8Array(fileData, position, length);\n",
              "      position += length;\n",
              "\n",
              "      const base64 = btoa(String.fromCharCode.apply(null, chunk));\n",
              "      yield {\n",
              "        response: {\n",
              "          action: 'append',\n",
              "          file: file.name,\n",
              "          data: base64,\n",
              "        },\n",
              "      };\n",
              "\n",
              "      let percentDone = fileData.byteLength === 0 ?\n",
              "          100 :\n",
              "          Math.round((position / fileData.byteLength) * 100);\n",
              "      percent.textContent = `${percentDone}% done`;\n",
              "\n",
              "    } while (position < fileData.byteLength);\n",
              "  }\n",
              "\n",
              "  // All done.\n",
              "  yield {\n",
              "    response: {\n",
              "      action: 'complete',\n",
              "    }\n",
              "  };\n",
              "}\n",
              "\n",
              "scope.google = scope.google || {};\n",
              "scope.google.colab = scope.google.colab || {};\n",
              "scope.google.colab._files = {\n",
              "  _uploadFiles,\n",
              "  _uploadFilesContinue,\n",
              "};\n",
              "})(self);\n",
              "</script> "
            ]
          },
          "metadata": {}
        },
        {
          "output_type": "stream",
          "name": "stdout",
          "text": [
            "Saving dev.csv to dev (1).csv\n",
            "Saving train.csv to train (1).csv\n"
          ]
        }
      ],
      "source": [
        "import pandas as pd\n",
        "import numpy as np\n",
        "from google.colab import files\n",
        "uploaded = files.upload()"
      ]
    },
    {
      "cell_type": "code",
      "source": [
        "triage_train_data = pd.read_csv('train.csv', sep='|')\n",
        "triage_test_data = pd.read_csv('dev.csv', sep='|')\n"
      ],
      "metadata": {
        "id": "nGtROj88j65w"
      },
      "execution_count": 4,
      "outputs": []
    },
    {
      "cell_type": "markdown",
      "source": [
        "# group Labels"
      ],
      "metadata": {
        "id": "oHlcGU7ay_Co"
      }
    },
    {
      "cell_type": "code",
      "source": [
        "# train set label groups\n",
        "label_groups = triage_train_data['Label'].groupby(triage_train_data['Label'])\n",
        "print(label_groups.count())"
      ],
      "metadata": {
        "colab": {
          "base_uri": "https://localhost:8080/"
        },
        "id": "sGWl-9eJzByO",
        "outputId": "3a7016d7-3173-4691-a87e-f62b77bb9fef"
      },
      "execution_count": 5,
      "outputs": [
        {
          "output_type": "stream",
          "name": "stdout",
          "text": [
            "Label\n",
            "0    12361\n",
            "1     8685\n",
            "Name: Label, dtype: int64\n"
          ]
        }
      ]
    },
    {
      "cell_type": "code",
      "source": [
        "# test set label groups\n",
        "label_groups = triage_test_data['Label'].groupby(triage_test_data['Label'])\n",
        "print(label_groups.count())"
      ],
      "metadata": {
        "colab": {
          "base_uri": "https://localhost:8080/"
        },
        "id": "ClVSTTFzzCtN",
        "outputId": "06d3f696-bee9-48f5-e82a-c6de80dc5ddc"
      },
      "execution_count": 6,
      "outputs": [
        {
          "output_type": "stream",
          "name": "stdout",
          "text": [
            "Label\n",
            "0    1525\n",
            "1    1048\n",
            "Name: Label, dtype: int64\n"
          ]
        }
      ]
    },
    {
      "cell_type": "code",
      "source": [
        "# print information about the train set\n",
        "print(triage_train_data.head(10))\n",
        "print(triage_train_data.shape)\n",
        "print(triage_train_data['Label'].unique())"
      ],
      "metadata": {
        "colab": {
          "base_uri": "https://localhost:8080/"
        },
        "id": "KH_A76-NpU_G",
        "outputId": "224ce409-ba60-486d-b506-1ecc51ca7cec"
      },
      "execution_count": 7,
      "outputs": [
        {
          "output_type": "stream",
          "name": "stdout",
          "text": [
            "                                                Text  Label\n",
            "0  i would like to know when the national archive...      0\n",
            "1  the strongest wind force measured near the cen...      0\n",
            "2  i need help because i lost my mother and my fa...      1\n",
            "3  i would like to send some informations for me ...      0\n",
            "4  in addition it intends to concentrate on promo...      0\n",
            "5  while the total impact on grain production is ...      1\n",
            "6  researchers from the university of oxford and ...      0\n",
            "7  it will also construct the 1 000 cubic metre w...      0\n",
            "8  an important effort to enhance protection part...      1\n",
            "9  priority activities of the organisation includ...      0\n",
            "(21046, 2)\n",
            "[0 1]\n"
          ]
        }
      ]
    },
    {
      "cell_type": "code",
      "source": [
        "# print information about the test set\n",
        "print(triage_test_data.head(10))\n",
        "print(triage_test_data.shape)\n",
        "print(triage_test_data['Label'].unique())"
      ],
      "metadata": {
        "colab": {
          "base_uri": "https://localhost:8080/"
        },
        "id": "ojXHweuNp-dJ",
        "outputId": "1b2486ce-1b21-4ad0-abe8-06466656876c"
      },
      "execution_count": 8,
      "outputs": [
        {
          "output_type": "stream",
          "name": "stdout",
          "text": [
            "                                                Text  Label\n",
            "0  the tremor measured 5 8 on the richter scale t...      0\n",
            "1  in trincomalee where nearly 361 people died th...      1\n",
            "2  i would like to know if someone did not go to ...      0\n",
            "3         holy moley this storm is going to be scary      0\n",
            "4  small grants programme is not eligible to fund...      0\n",
            "5  an analysis of meteosat satellite imagery noaa...      0\n",
            "6                   notes this message is incomplete      0\n",
            "7  this has greatly improved the condition of cro...      0\n",
            "8  i make you to know that now the sms service 46...      0\n",
            "9  i am in the street i have a house all my cards...      0\n",
            "(2573, 2)\n",
            "[0 1]\n"
          ]
        }
      ]
    },
    {
      "cell_type": "markdown",
      "source": [
        "# Data set is already split betweem train and test sets."
      ],
      "metadata": {
        "id": "t6wCO074vOBm"
      }
    },
    {
      "cell_type": "markdown",
      "source": [
        "# BOW and Tf-Idf"
      ],
      "metadata": {
        "id": "ez5Hs38cvgUs"
      }
    },
    {
      "cell_type": "code",
      "source": [
        "# Fit and transform X_train using Tfidf Vectorizer with default parameters\n",
        "from sklearn.feature_extraction.text import TfidfVectorizer\n",
        "vectorizer = TfidfVectorizer()\n",
        "\n",
        "X_train = triage_train_data['Text']\n",
        "y_train = triage_train_data['Label']\n",
        "\n",
        "X_test = triage_test_data['Text']\n",
        "y_test = triage_test_data['Label']\n",
        "\n",
        "X_train_tfidf = vectorizer.fit_transform(X_train.values.astype('U')).toarray() # form of BOW\n",
        "\n",
        "\n",
        "print('tfidf train shape:', X_train_tfidf.shape)\n",
        "# (# training docs, # of unique vocab)\n",
        "print('tfidf train type:', X_train_tfidf.dtype)\n",
        "\n",
        "print('\\n', X_train_tfidf)"
      ],
      "metadata": {
        "id": "j7qptYazvOTo",
        "colab": {
          "base_uri": "https://localhost:8080/"
        },
        "outputId": "5cbefcb9-497a-4237-fefa-a0565b233573"
      },
      "execution_count": 9,
      "outputs": [
        {
          "output_type": "stream",
          "name": "stdout",
          "text": [
            "tfidf train shape: (21046, 31211)\n",
            "tfidf train type: float64\n",
            "\n",
            " [[0. 0. 0. ... 0. 0. 0.]\n",
            " [0. 0. 0. ... 0. 0. 0.]\n",
            " [0. 0. 0. ... 0. 0. 0.]\n",
            " ...\n",
            " [0. 0. 0. ... 0. 0. 0.]\n",
            " [0. 0. 0. ... 0. 0. 0.]\n",
            " [0. 0. 0. ... 0. 0. 0.]]\n"
          ]
        }
      ]
    },
    {
      "cell_type": "code",
      "source": [
        "X_test_tfidf = vectorizer.transform(X_test.values.astype('U')).toarray()\n",
        "\n",
        "print('tfidf train shape:', X_test_tfidf.shape)\n",
        "# (# training docs, # of unique vocab)\n",
        "print('tfidf train type:', X_test_tfidf.dtype)\n",
        "print('\\ntfidf test:', X_test_tfidf)"
      ],
      "metadata": {
        "colab": {
          "base_uri": "https://localhost:8080/"
        },
        "id": "EszqhBOh45fq",
        "outputId": "9ac9021b-c9ce-44f9-e090-da8696f781f8"
      },
      "execution_count": 10,
      "outputs": [
        {
          "output_type": "stream",
          "name": "stdout",
          "text": [
            "tfidf train shape: (2573, 31211)\n",
            "tfidf train type: float64\n",
            "\n",
            "tfidf test: [[0. 0. 0. ... 0. 0. 0.]\n",
            " [0. 0. 0. ... 0. 0. 0.]\n",
            " [0. 0. 0. ... 0. 0. 0.]\n",
            " ...\n",
            " [0. 0. 0. ... 0. 0. 0.]\n",
            " [0. 0. 0. ... 0. 0. 0.]\n",
            " [0. 0. 0. ... 0. 0. 0.]]\n"
          ]
        }
      ]
    },
    {
      "cell_type": "markdown",
      "source": [
        "# Model or Classifier\n",
        "\n",
        "Classification: build a model (here using Naive Bayes) on train data and labels then predict the labels of the test set"
      ],
      "metadata": {
        "id": "-dMQEpOg5dY5"
      }
    },
    {
      "cell_type": "code",
      "source": [
        "\n",
        "# train = build the model (fit) on the train set\n",
        "from sklearn.naive_bayes import MultinomialNB\n",
        "clf = MultinomialNB()\n",
        "clf.fit(X_train_tfidf, y_train)  # model building phase\n",
        "    \n",
        "# test results = predict on test set data, to get predicted labels\n",
        "predicted = clf.predict(X_test_tfidf)\n",
        "print(predicted)"
      ],
      "metadata": {
        "colab": {
          "base_uri": "https://localhost:8080/"
        },
        "id": "T8DB6Ohk5fV_",
        "outputId": "9ac58381-9037-433b-bbe3-a606a8f5adac"
      },
      "execution_count": 11,
      "outputs": [
        {
          "output_type": "stream",
          "name": "stdout",
          "text": [
            "[0 1 0 ... 0 1 0]\n"
          ]
        }
      ]
    },
    {
      "cell_type": "code",
      "source": [
        "\n",
        "from sklearn import metrics\n",
        "\n",
        "display (metrics.accuracy_score(y_test, predicted))\n",
        "\n",
        "# display (metrics.confusion_matrix(y_test, predicted))\n",
        "\n",
        "display (metrics.precision_score(y_test, predicted))\n",
        "\n",
        "display (metrics.recall_score(y_test, predicted))\n"
      ],
      "metadata": {
        "colab": {
          "base_uri": "https://localhost:8080/",
          "height": 69
        },
        "id": "bdUaN5Ho57BG",
        "outputId": "26b77a42-f941-4925-c9b5-621506ca3b94"
      },
      "execution_count": 12,
      "outputs": [
        {
          "output_type": "display_data",
          "data": {
            "text/plain": [
              "0.7516517683637777"
            ]
          },
          "metadata": {}
        },
        {
          "output_type": "display_data",
          "data": {
            "text/plain": [
              "0.7284916201117319"
            ]
          },
          "metadata": {}
        },
        {
          "output_type": "display_data",
          "data": {
            "text/plain": [
              "0.6221374045801527"
            ]
          },
          "metadata": {}
        }
      ]
    },
    {
      "cell_type": "markdown",
      "source": [
        "# Count Vectorizer"
      ],
      "metadata": {
        "id": "_EV_Xe4JmQUD"
      }
    },
    {
      "cell_type": "code",
      "source": [
        "from sklearn.feature_extraction.text import CountVectorizer\n",
        "\n",
        "# use count vectorizer to get the BOW matrix with frequency of term per doc\n",
        "count_vectorizer = CountVectorizer()\n",
        "\n",
        "# train count vectorizer\n",
        "x_train_count_vectorizer = count_vectorizer.fit_transform(X_train.values.astype('U'))\n",
        "\n",
        "# test count vectorizer\n",
        "x_test_count_vectorizer = count_vectorizer.transform(X_test.values.astype('U'))\n",
        "\n",
        "\n",
        "print('tfidf train shape:', x_train_count_vectorizer.shape)\n",
        "# (# training docs, # of unique vocab)\n",
        "print('tfidf train type:', x_train_count_vectorizer.dtype)\n",
        "print('\\n', x_train_count_vectorizer.toarray())\n",
        "\n",
        "print(x_test_count_vectorizer.toarray())"
      ],
      "metadata": {
        "colab": {
          "base_uri": "https://localhost:8080/"
        },
        "id": "0uYaZ2JMmPt2",
        "outputId": "2eb5e088-d5b3-480a-e6b6-08aba22d5914"
      },
      "execution_count": 13,
      "outputs": [
        {
          "output_type": "stream",
          "name": "stdout",
          "text": [
            "tfidf train shape: (21046, 31211)\n",
            "tfidf train type: int64\n",
            "\n",
            " [[0 0 0 ... 0 0 0]\n",
            " [0 0 0 ... 0 0 0]\n",
            " [0 0 0 ... 0 0 0]\n",
            " ...\n",
            " [0 0 0 ... 0 0 0]\n",
            " [0 0 0 ... 0 0 0]\n",
            " [0 0 0 ... 0 0 0]]\n",
            "[[0 0 0 ... 0 0 0]\n",
            " [0 0 0 ... 0 0 0]\n",
            " [0 0 0 ... 0 0 0]\n",
            " ...\n",
            " [0 0 0 ... 0 0 0]\n",
            " [0 0 0 ... 0 0 0]\n",
            " [0 0 0 ... 0 0 0]]\n"
          ]
        }
      ]
    },
    {
      "cell_type": "markdown",
      "source": [
        "# Model or Classifier\n",
        "\n",
        "Classification: build a model (here using Naive Bayes) on train data and labels then predict the labels of the test set"
      ],
      "metadata": {
        "id": "g3eq2fOknKNt"
      }
    },
    {
      "cell_type": "code",
      "source": [
        "# train = build the model (fit) on the train set\n",
        "from sklearn.naive_bayes import MultinomialNB\n",
        "clf = MultinomialNB()\n",
        "clf.fit(x_train_count_vectorizer, y_train)  # model building phase\n",
        "    \n",
        "# test results = predict on test set data, to get predicted labels\n",
        "predicted = clf.predict(x_test_count_vectorizer)\n",
        "print(predicted)"
      ],
      "metadata": {
        "colab": {
          "base_uri": "https://localhost:8080/"
        },
        "id": "HW_mjlF7nJvO",
        "outputId": "a5ac00d5-f47e-45fb-f294-8ff396c1cd33"
      },
      "execution_count": 14,
      "outputs": [
        {
          "output_type": "stream",
          "name": "stdout",
          "text": [
            "[0 1 0 ... 0 1 0]\n"
          ]
        }
      ]
    },
    {
      "cell_type": "code",
      "source": [
        "from sklearn import metrics\n",
        "\n",
        "display (metrics.accuracy_score(y_test, predicted))\n",
        "\n",
        "display (metrics.confusion_matrix(y_test, predicted))\n",
        "\n",
        "display (metrics.precision_score(y_test, predicted))\n",
        "\n",
        "display (metrics.recall_score(y_test, predicted))"
      ],
      "metadata": {
        "colab": {
          "base_uri": "https://localhost:8080/",
          "height": 104
        },
        "id": "ZVEH-IiVnTWA",
        "outputId": "cdc70aa4-4c7a-4497-8017-6c37c9c49df8"
      },
      "execution_count": 15,
      "outputs": [
        {
          "output_type": "display_data",
          "data": {
            "text/plain": [
              "0.7396035755926934"
            ]
          },
          "metadata": {}
        },
        {
          "output_type": "display_data",
          "data": {
            "text/plain": [
              "array([[1096,  429],\n",
              "       [ 241,  807]])"
            ]
          },
          "metadata": {}
        },
        {
          "output_type": "display_data",
          "data": {
            "text/plain": [
              "0.6529126213592233"
            ]
          },
          "metadata": {}
        },
        {
          "output_type": "display_data",
          "data": {
            "text/plain": [
              "0.7700381679389313"
            ]
          },
          "metadata": {}
        }
      ]
    }
  ]
}