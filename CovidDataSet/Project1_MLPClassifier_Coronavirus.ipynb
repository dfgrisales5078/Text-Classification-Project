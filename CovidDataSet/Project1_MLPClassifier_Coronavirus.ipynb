{
  "cells": [
    {
      "cell_type": "markdown",
      "metadata": {
        "id": "Iv3VQ_tYkeFr"
      },
      "source": [
        "#Coronavirus Data Set"
      ]
    },
    {
      "cell_type": "code",
      "execution_count": null,
      "metadata": {
        "colab": {
          "base_uri": "https://localhost:8080/",
          "height": 108
        },
        "id": "JwhEma6jkGrZ",
        "outputId": "5a429d58-df4d-4836-9012-060062e9e3bc"
      },
      "outputs": [
        {
          "data": {
            "text/html": [
              "\n",
              "     <input type=\"file\" id=\"files-a69d8fd4-d40d-47d5-8fe5-7f292e32a5f8\" name=\"files[]\" multiple disabled\n",
              "        style=\"border:none\" />\n",
              "     <output id=\"result-a69d8fd4-d40d-47d5-8fe5-7f292e32a5f8\">\n",
              "      Upload widget is only available when the cell has been executed in the\n",
              "      current browser session. Please rerun this cell to enable.\n",
              "      </output>\n",
              "      <script>// Copyright 2017 Google LLC\n",
              "//\n",
              "// Licensed under the Apache License, Version 2.0 (the \"License\");\n",
              "// you may not use this file except in compliance with the License.\n",
              "// You may obtain a copy of the License at\n",
              "//\n",
              "//      http://www.apache.org/licenses/LICENSE-2.0\n",
              "//\n",
              "// Unless required by applicable law or agreed to in writing, software\n",
              "// distributed under the License is distributed on an \"AS IS\" BASIS,\n",
              "// WITHOUT WARRANTIES OR CONDITIONS OF ANY KIND, either express or implied.\n",
              "// See the License for the specific language governing permissions and\n",
              "// limitations under the License.\n",
              "\n",
              "/**\n",
              " * @fileoverview Helpers for google.colab Python module.\n",
              " */\n",
              "(function(scope) {\n",
              "function span(text, styleAttributes = {}) {\n",
              "  const element = document.createElement('span');\n",
              "  element.textContent = text;\n",
              "  for (const key of Object.keys(styleAttributes)) {\n",
              "    element.style[key] = styleAttributes[key];\n",
              "  }\n",
              "  return element;\n",
              "}\n",
              "\n",
              "// Max number of bytes which will be uploaded at a time.\n",
              "const MAX_PAYLOAD_SIZE = 100 * 1024;\n",
              "\n",
              "function _uploadFiles(inputId, outputId) {\n",
              "  const steps = uploadFilesStep(inputId, outputId);\n",
              "  const outputElement = document.getElementById(outputId);\n",
              "  // Cache steps on the outputElement to make it available for the next call\n",
              "  // to uploadFilesContinue from Python.\n",
              "  outputElement.steps = steps;\n",
              "\n",
              "  return _uploadFilesContinue(outputId);\n",
              "}\n",
              "\n",
              "// This is roughly an async generator (not supported in the browser yet),\n",
              "// where there are multiple asynchronous steps and the Python side is going\n",
              "// to poll for completion of each step.\n",
              "// This uses a Promise to block the python side on completion of each step,\n",
              "// then passes the result of the previous step as the input to the next step.\n",
              "function _uploadFilesContinue(outputId) {\n",
              "  const outputElement = document.getElementById(outputId);\n",
              "  const steps = outputElement.steps;\n",
              "\n",
              "  const next = steps.next(outputElement.lastPromiseValue);\n",
              "  return Promise.resolve(next.value.promise).then((value) => {\n",
              "    // Cache the last promise value to make it available to the next\n",
              "    // step of the generator.\n",
              "    outputElement.lastPromiseValue = value;\n",
              "    return next.value.response;\n",
              "  });\n",
              "}\n",
              "\n",
              "/**\n",
              " * Generator function which is called between each async step of the upload\n",
              " * process.\n",
              " * @param {string} inputId Element ID of the input file picker element.\n",
              " * @param {string} outputId Element ID of the output display.\n",
              " * @return {!Iterable<!Object>} Iterable of next steps.\n",
              " */\n",
              "function* uploadFilesStep(inputId, outputId) {\n",
              "  const inputElement = document.getElementById(inputId);\n",
              "  inputElement.disabled = false;\n",
              "\n",
              "  const outputElement = document.getElementById(outputId);\n",
              "  outputElement.innerHTML = '';\n",
              "\n",
              "  const pickedPromise = new Promise((resolve) => {\n",
              "    inputElement.addEventListener('change', (e) => {\n",
              "      resolve(e.target.files);\n",
              "    });\n",
              "  });\n",
              "\n",
              "  const cancel = document.createElement('button');\n",
              "  inputElement.parentElement.appendChild(cancel);\n",
              "  cancel.textContent = 'Cancel upload';\n",
              "  const cancelPromise = new Promise((resolve) => {\n",
              "    cancel.onclick = () => {\n",
              "      resolve(null);\n",
              "    };\n",
              "  });\n",
              "\n",
              "  // Wait for the user to pick the files.\n",
              "  const files = yield {\n",
              "    promise: Promise.race([pickedPromise, cancelPromise]),\n",
              "    response: {\n",
              "      action: 'starting',\n",
              "    }\n",
              "  };\n",
              "\n",
              "  cancel.remove();\n",
              "\n",
              "  // Disable the input element since further picks are not allowed.\n",
              "  inputElement.disabled = true;\n",
              "\n",
              "  if (!files) {\n",
              "    return {\n",
              "      response: {\n",
              "        action: 'complete',\n",
              "      }\n",
              "    };\n",
              "  }\n",
              "\n",
              "  for (const file of files) {\n",
              "    const li = document.createElement('li');\n",
              "    li.append(span(file.name, {fontWeight: 'bold'}));\n",
              "    li.append(span(\n",
              "        `(${file.type || 'n/a'}) - ${file.size} bytes, ` +\n",
              "        `last modified: ${\n",
              "            file.lastModifiedDate ? file.lastModifiedDate.toLocaleDateString() :\n",
              "                                    'n/a'} - `));\n",
              "    const percent = span('0% done');\n",
              "    li.appendChild(percent);\n",
              "\n",
              "    outputElement.appendChild(li);\n",
              "\n",
              "    const fileDataPromise = new Promise((resolve) => {\n",
              "      const reader = new FileReader();\n",
              "      reader.onload = (e) => {\n",
              "        resolve(e.target.result);\n",
              "      };\n",
              "      reader.readAsArrayBuffer(file);\n",
              "    });\n",
              "    // Wait for the data to be ready.\n",
              "    let fileData = yield {\n",
              "      promise: fileDataPromise,\n",
              "      response: {\n",
              "        action: 'continue',\n",
              "      }\n",
              "    };\n",
              "\n",
              "    // Use a chunked sending to avoid message size limits. See b/62115660.\n",
              "    let position = 0;\n",
              "    do {\n",
              "      const length = Math.min(fileData.byteLength - position, MAX_PAYLOAD_SIZE);\n",
              "      const chunk = new Uint8Array(fileData, position, length);\n",
              "      position += length;\n",
              "\n",
              "      const base64 = btoa(String.fromCharCode.apply(null, chunk));\n",
              "      yield {\n",
              "        response: {\n",
              "          action: 'append',\n",
              "          file: file.name,\n",
              "          data: base64,\n",
              "        },\n",
              "      };\n",
              "\n",
              "      let percentDone = fileData.byteLength === 0 ?\n",
              "          100 :\n",
              "          Math.round((position / fileData.byteLength) * 100);\n",
              "      percent.textContent = `${percentDone}% done`;\n",
              "\n",
              "    } while (position < fileData.byteLength);\n",
              "  }\n",
              "\n",
              "  // All done.\n",
              "  yield {\n",
              "    response: {\n",
              "      action: 'complete',\n",
              "    }\n",
              "  };\n",
              "}\n",
              "\n",
              "scope.google = scope.google || {};\n",
              "scope.google.colab = scope.google.colab || {};\n",
              "scope.google.colab._files = {\n",
              "  _uploadFiles,\n",
              "  _uploadFilesContinue,\n",
              "};\n",
              "})(self);\n",
              "</script> "
            ],
            "text/plain": [
              "<IPython.core.display.HTML object>"
            ]
          },
          "metadata": {},
          "output_type": "display_data"
        },
        {
          "name": "stdout",
          "output_type": "stream",
          "text": [
            "Saving dev.csv to dev.csv\n",
            "Saving train.csv to train.csv\n"
          ]
        }
      ],
      "source": [
        "import pandas as pd\n",
        "import numpy as np\n",
        "from google.colab import files\n",
        "uploaded = files.upload()"
      ]
    },
    {
      "cell_type": "code",
      "execution_count": null,
      "metadata": {
        "id": "ObMzQ1u2l5kX"
      },
      "outputs": [],
      "source": [
        "coronavirus_train_data = pd.read_csv('train.csv', sep='|')\n",
        "coronavirus_test_data = pd.read_csv('dev.csv', sep='|')\n",
        "\n",
        "coronavirus_train_text =coronavirus_train_data['Text']\n",
        "coronavirus_test_text = coronavirus_test_data['Text']\n",
        "coronavirus_train_label =coronavirus_train_data['Label']\n",
        "coronavirus_test_label = coronavirus_test_data['Label']\n"
      ]
    },
    {
      "cell_type": "markdown",
      "metadata": {
        "id": "HYGPGUyZl9hE"
      },
      "source": [
        "#Group Labels\n"
      ]
    },
    {
      "cell_type": "code",
      "execution_count": null,
      "metadata": {
        "colab": {
          "base_uri": "https://localhost:8080/"
        },
        "id": "0h1_aJ2NmE-S",
        "outputId": "96b94c8c-94e0-4259-ec09-d7b4c6a74c2e"
      },
      "outputs": [
        {
          "name": "stdout",
          "output_type": "stream",
          "text": [
            "Label\n",
            "0    38837\n",
            "1    41163\n",
            "Name: Label, dtype: int64\n"
          ]
        }
      ],
      "source": [
        "# train set label groups\n",
        "label_groups = coronavirus_train_data['Label'].groupby(coronavirus_train_data['Label'])\n",
        "print(label_groups.count())"
      ]
    },
    {
      "cell_type": "code",
      "execution_count": null,
      "metadata": {
        "colab": {
          "base_uri": "https://localhost:8080/"
        },
        "id": "FFUhFLt6ngyA",
        "outputId": "85d13eec-6edb-48bf-f8c2-cc528ac5de10"
      },
      "outputs": [
        {
          "name": "stdout",
          "output_type": "stream",
          "text": [
            "Label\n",
            "0    4963\n",
            "1    5037\n",
            "Name: Label, dtype: int64\n"
          ]
        }
      ],
      "source": [
        "# test set label groups\n",
        "label_groups = coronavirus_test_data['Label'].groupby(coronavirus_test_data['Label'])\n",
        "print(label_groups.count())"
      ]
    },
    {
      "cell_type": "code",
      "execution_count": null,
      "metadata": {
        "colab": {
          "base_uri": "https://localhost:8080/"
        },
        "id": "9mYQTIPdnnjT",
        "outputId": "6f9801ba-2ecb-4c10-c1d0-296e51364f6f"
      },
      "outputs": [
        {
          "name": "stdout",
          "output_type": "stream",
          "text": [
            "                                                Text  Label\n",
            "0  Just a joke calm down a little humor to lighte...      1\n",
            "1  I know public defecation is a huge problem the...      0\n",
            "2  I do agree with you but I also think USA has a...      0\n",
            "3    A hospital in Shanghai claims that antiAIDS ...      1\n",
            "4                                   Dont be a racist      1\n",
            "5  NYC educator here and I can say1 There was an ...      0\n",
            "6  You do realize that no form of entertainment i...      1\n",
            "7  And stop eating fucking cardboard Im talking t...      0\n",
            "8  Its because youre still providing people with ...      0\n",
            "9  I bet Washington DC will be first once we real...      0\n",
            "(80000, 2)\n",
            "[1 0]\n"
          ]
        }
      ],
      "source": [
        "# print information about the train set\n",
        "print(coronavirus_train_data.head(10))\n",
        "print(coronavirus_train_data.shape)\n",
        "print(coronavirus_train_data['Label'].unique())"
      ]
    },
    {
      "cell_type": "code",
      "execution_count": null,
      "metadata": {
        "colab": {
          "base_uri": "https://localhost:8080/"
        },
        "id": "EsaXFyxRnpv8",
        "outputId": "9f449d8e-752c-4da2-ddec-fe4233dbbf02"
      },
      "outputs": [
        {
          "name": "stdout",
          "output_type": "stream",
          "text": [
            "                                                Text  Label\n",
            "0  We really do not know the answer to your quest...      1\n",
            "1         Thats what Im wondering and confused about      0\n",
            "2   Think about it  His doctors come  to him and ...      1\n",
            "3  Corona is still being censored on many subbred...      0\n",
            "4  The original comment in this chain literally s...      0\n",
            "5  I dont know about the legality where you live ...      1\n",
            "6  Wait youve caught my attention how does rice p...      1\n",
            "7  Luckily in Michigan everyone can get an Absent...      1\n",
            "8  Which is also important in preventing deaths Y...      0\n",
            "9  His is a super selfish attitude and really cal...      1\n",
            "(10000, 2)\n",
            "[1 0]\n"
          ]
        }
      ],
      "source": [
        "# print information about the test set\n",
        "print(coronavirus_test_data.head(10))\n",
        "print(coronavirus_test_data.shape)\n",
        "print(coronavirus_test_data['Label'].unique())"
      ]
    },
    {
      "cell_type": "markdown",
      "metadata": {
        "id": "8EyaS94gnu_e"
      },
      "source": [
        "#Data set is already split between train and test sets. \n",
        "\n"
      ]
    },
    {
      "cell_type": "markdown",
      "metadata": {
        "id": "asCpm1BX0lxc"
      },
      "source": [
        "#BOW "
      ]
    },
    {
      "cell_type": "code",
      "execution_count": null,
      "metadata": {
        "id": "orJfFGmPuC4r"
      },
      "outputs": [],
      "source": [
        "from sklearn.feature_extraction.text import CountVectorizer\n",
        "from sklearn.model_selection import train_test_split\n",
        "\n",
        "# Vectorization\n",
        "vectorizer = CountVectorizer()\n",
        "Xtrain_data_vectorized = vectorizer.fit_transform(coronavirus_train_text.values.astype('U'))\n",
        "Xtest_data_vectorized = vectorizer.transform(coronavirus_test_text.values.astype('U'))\n",
        "\n"
      ]
    },
    {
      "cell_type": "markdown",
      "metadata": {
        "id": "xf52aeq00qAz"
      },
      "source": [
        "#Neural Network Model"
      ]
    },
    {
      "cell_type": "code",
      "execution_count": null,
      "metadata": {
        "colab": {
          "base_uri": "https://localhost:8080/"
        },
        "id": "Frgp4Sp1n28N",
        "outputId": "3f14d339-b158-4d26-ff4c-1e02079a0eab"
      },
      "outputs": [
        {
          "data": {
            "text/plain": [
              "MLPClassifier(alpha=1e-05, hidden_layer_sizes=(5, 2), max_iter=1000000,\n",
              "              random_state=1, solver='lbfgs')"
            ]
          },
          "execution_count": 15,
          "metadata": {},
          "output_type": "execute_result"
        }
      ],
      "source": [
        "from sklearn.neural_network import MLPClassifier\n",
        "\n",
        "clf = MLPClassifier(solver='lbfgs', alpha=1e-5,\n",
        "                    hidden_layer_sizes=(5, 2), max_iter=1000000, random_state=1)\n",
        "\n",
        "clf.fit(Xtrain_data_vectorized, coronavirus_train_label )"
      ]
    },
    {
      "cell_type": "code",
      "execution_count": null,
      "metadata": {
        "colab": {
          "base_uri": "https://localhost:8080/",
          "height": 104
        },
        "id": "VuOBsk0goScF",
        "outputId": "bdfb5d1b-5cc3-4751-ff98-5fd4791e0105"
      },
      "outputs": [
        {
          "data": {
            "text/plain": [
              "0.8071"
            ]
          },
          "metadata": {},
          "output_type": "display_data"
        },
        {
          "data": {
            "text/plain": [
              "array([[3964,  999],\n",
              "       [ 930, 4107]])"
            ]
          },
          "metadata": {},
          "output_type": "display_data"
        },
        {
          "data": {
            "text/plain": [
              "0.8043478260869565"
            ]
          },
          "metadata": {},
          "output_type": "display_data"
        },
        {
          "data": {
            "text/plain": [
              "0.8153662894580107"
            ]
          },
          "metadata": {},
          "output_type": "display_data"
        }
      ],
      "source": [
        "from sklearn import metrics\n",
        "\n",
        "\n",
        "predicted = clf.predict(Xtest_data_vectorized)\n",
        "\n",
        "display (metrics.accuracy_score(coronavirus_test_label, predicted))\n",
        "\n",
        "display (metrics.confusion_matrix(coronavirus_test_label, predicted))\n",
        "\n",
        "display (metrics.precision_score(coronavirus_test_label, predicted))\n",
        "\n",
        "display (metrics.recall_score(coronavirus_test_label, predicted))\n"
      ]
    },
    {
      "cell_type": "markdown",
      "metadata": {
        "id": "O1YSJvUF1Cuk"
      },
      "source": [
        "#BOW and Tf-Idf"
      ]
    },
    {
      "cell_type": "code",
      "execution_count": null,
      "metadata": {
        "colab": {
          "base_uri": "https://localhost:8080/"
        },
        "id": "wGqGau0l1Jb_",
        "outputId": "050be1d0-ce9e-4e74-b13e-91d11b8f8099"
      },
      "outputs": [
        {
          "name": "stdout",
          "output_type": "stream",
          "text": [
            "tfidf train shape: (80000, 81647)\n",
            "tfidf train type: float64\n",
            "\n",
            "   (0, 71793)\t0.0720088389049847\n",
            "  (0, 6984)\t0.03391978940382065\n",
            "  (0, 5298)\t0.16112724314862958\n",
            "  (0, 79750)\t0.05097158832301223\n",
            "  (0, 59507)\t0.14281679747383816\n",
            "  (0, 80378)\t0.14440991019692506\n",
            "  (0, 49174)\t0.08951737659385359\n",
            "  (0, 81256)\t0.04508423575771305\n",
            "  (0, 54362)\t0.049053271371077206\n",
            "  (0, 61792)\t0.15710337693845577\n",
            "  (0, 5286)\t0.16025077770291885\n",
            "  (0, 30751)\t0.18473006095870345\n",
            "  (0, 80140)\t0.08334059727146902\n",
            "  (0, 29331)\t0.043330650479750474\n",
            "  (0, 8310)\t0.12505087563356346\n",
            "  (0, 29749)\t0.10305395194182283\n",
            "  (0, 13115)\t0.05972746205823504\n",
            "  (0, 7558)\t0.1112145178464483\n",
            "  (0, 40167)\t0.040956853252170224\n",
            "  (0, 30943)\t0.06112068662848401\n",
            "  (0, 31358)\t0.06890595266066643\n",
            "  (0, 7966)\t0.044563307159605305\n",
            "  (0, 66795)\t0.05470028511268771\n",
            "  (0, 10191)\t0.0669071343867956\n",
            "  (0, 33047)\t0.06345146105050677\n",
            "  :\t:\n",
            "  (79998, 60974)\t0.3977059449375666\n",
            "  (79998, 17879)\t0.32949983425175144\n",
            "  (79998, 56017)\t0.3458016466402937\n",
            "  (79998, 33378)\t0.22741984049218616\n",
            "  (79998, 12997)\t0.21728043726021037\n",
            "  (79998, 60927)\t0.3233021728208206\n",
            "  (79998, 67048)\t0.18600488008889834\n",
            "  (79998, 24157)\t0.21887376173235495\n",
            "  (79998, 42213)\t0.18705718231690463\n",
            "  (79998, 71677)\t0.14342062636792394\n",
            "  (79998, 8349)\t0.11946606678886229\n",
            "  (79998, 39952)\t0.07919900297934253\n",
            "  (79998, 40167)\t0.17480104884526113\n",
            "  (79998, 71839)\t0.06064402153286989\n",
            "  (79999, 69336)\t0.355325645901682\n",
            "  (79999, 49636)\t0.4150722434061526\n",
            "  (79999, 68892)\t0.4408203720782552\n",
            "  (79999, 31891)\t0.30862968370043853\n",
            "  (79999, 10128)\t0.35524045357691764\n",
            "  (79999, 80919)\t0.289231958805693\n",
            "  (79999, 10212)\t0.2759906846789656\n",
            "  (79999, 76456)\t0.22455726377690308\n",
            "  (79999, 78307)\t0.19119003929144543\n",
            "  (79999, 72412)\t0.14310789668655058\n",
            "  (79999, 40167)\t0.13565620591455807\n"
          ]
        }
      ],
      "source": [
        "# Fit and transform X_train using Tfidf Vectorizer with default parameters\n",
        "from sklearn.feature_extraction.text import TfidfVectorizer\n",
        "vectorizer = TfidfVectorizer()\n",
        "\n",
        "Xtrain_data_tfidf = vectorizer.fit_transform(coronavirus_train_text.values.astype('U'))\n",
        "Xtest_data_tfidf = vectorizer.transform(coronavirus_test_text.values.astype('U'))\n",
        "\n",
        "\n",
        "print('tfidf train shape:', Xtrain_data_tfidf.shape)\n",
        "# (# training docs, # of unique vocab)\n",
        "print('tfidf train type:', Xtrain_data_tfidf.dtype)\n",
        "\n",
        "print('\\n', Xtrain_data_tfidf)\n"
      ]
    },
    {
      "cell_type": "markdown",
      "metadata": {
        "id": "5_Lc4N-319FK"
      },
      "source": [
        "#Neural Network Model with TfIdf"
      ]
    },
    {
      "cell_type": "code",
      "execution_count": null,
      "metadata": {
        "colab": {
          "base_uri": "https://localhost:8080/"
        },
        "id": "6jXgSFdf17qz",
        "outputId": "44795f5e-eff6-440a-c975-e95f6b2aedf4"
      },
      "outputs": [
        {
          "data": {
            "text/plain": [
              "MLPClassifier(alpha=1e-05, hidden_layer_sizes=(5, 2), max_iter=1000000,\n",
              "              random_state=42, solver='lbfgs')"
            ]
          },
          "execution_count": 18,
          "metadata": {},
          "output_type": "execute_result"
        }
      ],
      "source": [
        "from sklearn.neural_network import MLPClassifier\n",
        "clf = MLPClassifier(solver='lbfgs', alpha=1e-5,\n",
        "                    hidden_layer_sizes=(5, 2), max_iter=1000000, random_state=42)\n",
        "\n",
        "clf.fit(Xtrain_data_tfidf, coronavirus_train_label )"
      ]
    },
    {
      "cell_type": "code",
      "execution_count": null,
      "metadata": {
        "colab": {
          "base_uri": "https://localhost:8080/",
          "height": 104
        },
        "id": "bMX3CUah2STv",
        "outputId": "840066c8-60d8-4cb9-c357-789398dcd8ce"
      },
      "outputs": [
        {
          "data": {
            "text/plain": [
              "0.8269"
            ]
          },
          "metadata": {},
          "output_type": "display_data"
        },
        {
          "data": {
            "text/plain": [
              "array([[4137,  826],\n",
              "       [ 905, 4132]])"
            ]
          },
          "metadata": {},
          "output_type": "display_data"
        },
        {
          "data": {
            "text/plain": [
              "0.8334005647438483"
            ]
          },
          "metadata": {},
          "output_type": "display_data"
        },
        {
          "data": {
            "text/plain": [
              "0.8203295612467739"
            ]
          },
          "metadata": {},
          "output_type": "display_data"
        }
      ],
      "source": [
        "from sklearn import metrics\n",
        "predicted = clf.predict(Xtest_data_tfidf)\n",
        "\n",
        "display (metrics.accuracy_score(coronavirus_test_label, predicted))\n",
        "\n",
        "display (metrics.confusion_matrix(coronavirus_test_label, predicted))\n",
        "\n",
        "display (metrics.precision_score(coronavirus_test_label, predicted))\n",
        "\n",
        "display (metrics.recall_score(coronavirus_test_label, predicted))"
      ]
    }
  ],
  "metadata": {
    "colab": {
      "provenance": []
    },
    "kernelspec": {
      "display_name": "Python 3",
      "language": "python",
      "name": "python3"
    },
    "language_info": {
      "name": "python",
      "version": "3.10.10"
    },
    "vscode": {
      "interpreter": {
        "hash": "b0fa6594d8f4cbf19f97940f81e996739fb7646882a419484c72d19e05852a7e"
      }
    }
  },
  "nbformat": 4,
  "nbformat_minor": 0
}
