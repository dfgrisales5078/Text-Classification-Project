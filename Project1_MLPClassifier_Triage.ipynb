{
  "nbformat": 4,
  "nbformat_minor": 0,
  "metadata": {
    "colab": {
      "provenance": []
    },
    "kernelspec": {
      "name": "python3",
      "display_name": "Python 3"
    },
    "language_info": {
      "name": "python"
    }
  },
  "cells": [
    {
      "cell_type": "markdown",
      "source": [
        "#Triage Data Set"
      ],
      "metadata": {
        "id": "Iv3VQ_tYkeFr"
      }
    },
    {
      "cell_type": "code",
      "execution_count": null,
      "metadata": {
        "id": "JwhEma6jkGrZ",
        "colab": {
          "base_uri": "https://localhost:8080/",
          "height": 108
        },
        "outputId": "c46cccbc-2481-4df4-cfd5-4dce7bb68580"
      },
      "outputs": [
        {
          "output_type": "display_data",
          "data": {
            "text/plain": [
              "<IPython.core.display.HTML object>"
            ],
            "text/html": [
              "\n",
              "     <input type=\"file\" id=\"files-4c705f3c-a4d4-4db4-a0b7-b0bd9883e44b\" name=\"files[]\" multiple disabled\n",
              "        style=\"border:none\" />\n",
              "     <output id=\"result-4c705f3c-a4d4-4db4-a0b7-b0bd9883e44b\">\n",
              "      Upload widget is only available when the cell has been executed in the\n",
              "      current browser session. Please rerun this cell to enable.\n",
              "      </output>\n",
              "      <script>// Copyright 2017 Google LLC\n",
              "//\n",
              "// Licensed under the Apache License, Version 2.0 (the \"License\");\n",
              "// you may not use this file except in compliance with the License.\n",
              "// You may obtain a copy of the License at\n",
              "//\n",
              "//      http://www.apache.org/licenses/LICENSE-2.0\n",
              "//\n",
              "// Unless required by applicable law or agreed to in writing, software\n",
              "// distributed under the License is distributed on an \"AS IS\" BASIS,\n",
              "// WITHOUT WARRANTIES OR CONDITIONS OF ANY KIND, either express or implied.\n",
              "// See the License for the specific language governing permissions and\n",
              "// limitations under the License.\n",
              "\n",
              "/**\n",
              " * @fileoverview Helpers for google.colab Python module.\n",
              " */\n",
              "(function(scope) {\n",
              "function span(text, styleAttributes = {}) {\n",
              "  const element = document.createElement('span');\n",
              "  element.textContent = text;\n",
              "  for (const key of Object.keys(styleAttributes)) {\n",
              "    element.style[key] = styleAttributes[key];\n",
              "  }\n",
              "  return element;\n",
              "}\n",
              "\n",
              "// Max number of bytes which will be uploaded at a time.\n",
              "const MAX_PAYLOAD_SIZE = 100 * 1024;\n",
              "\n",
              "function _uploadFiles(inputId, outputId) {\n",
              "  const steps = uploadFilesStep(inputId, outputId);\n",
              "  const outputElement = document.getElementById(outputId);\n",
              "  // Cache steps on the outputElement to make it available for the next call\n",
              "  // to uploadFilesContinue from Python.\n",
              "  outputElement.steps = steps;\n",
              "\n",
              "  return _uploadFilesContinue(outputId);\n",
              "}\n",
              "\n",
              "// This is roughly an async generator (not supported in the browser yet),\n",
              "// where there are multiple asynchronous steps and the Python side is going\n",
              "// to poll for completion of each step.\n",
              "// This uses a Promise to block the python side on completion of each step,\n",
              "// then passes the result of the previous step as the input to the next step.\n",
              "function _uploadFilesContinue(outputId) {\n",
              "  const outputElement = document.getElementById(outputId);\n",
              "  const steps = outputElement.steps;\n",
              "\n",
              "  const next = steps.next(outputElement.lastPromiseValue);\n",
              "  return Promise.resolve(next.value.promise).then((value) => {\n",
              "    // Cache the last promise value to make it available to the next\n",
              "    // step of the generator.\n",
              "    outputElement.lastPromiseValue = value;\n",
              "    return next.value.response;\n",
              "  });\n",
              "}\n",
              "\n",
              "/**\n",
              " * Generator function which is called between each async step of the upload\n",
              " * process.\n",
              " * @param {string} inputId Element ID of the input file picker element.\n",
              " * @param {string} outputId Element ID of the output display.\n",
              " * @return {!Iterable<!Object>} Iterable of next steps.\n",
              " */\n",
              "function* uploadFilesStep(inputId, outputId) {\n",
              "  const inputElement = document.getElementById(inputId);\n",
              "  inputElement.disabled = false;\n",
              "\n",
              "  const outputElement = document.getElementById(outputId);\n",
              "  outputElement.innerHTML = '';\n",
              "\n",
              "  const pickedPromise = new Promise((resolve) => {\n",
              "    inputElement.addEventListener('change', (e) => {\n",
              "      resolve(e.target.files);\n",
              "    });\n",
              "  });\n",
              "\n",
              "  const cancel = document.createElement('button');\n",
              "  inputElement.parentElement.appendChild(cancel);\n",
              "  cancel.textContent = 'Cancel upload';\n",
              "  const cancelPromise = new Promise((resolve) => {\n",
              "    cancel.onclick = () => {\n",
              "      resolve(null);\n",
              "    };\n",
              "  });\n",
              "\n",
              "  // Wait for the user to pick the files.\n",
              "  const files = yield {\n",
              "    promise: Promise.race([pickedPromise, cancelPromise]),\n",
              "    response: {\n",
              "      action: 'starting',\n",
              "    }\n",
              "  };\n",
              "\n",
              "  cancel.remove();\n",
              "\n",
              "  // Disable the input element since further picks are not allowed.\n",
              "  inputElement.disabled = true;\n",
              "\n",
              "  if (!files) {\n",
              "    return {\n",
              "      response: {\n",
              "        action: 'complete',\n",
              "      }\n",
              "    };\n",
              "  }\n",
              "\n",
              "  for (const file of files) {\n",
              "    const li = document.createElement('li');\n",
              "    li.append(span(file.name, {fontWeight: 'bold'}));\n",
              "    li.append(span(\n",
              "        `(${file.type || 'n/a'}) - ${file.size} bytes, ` +\n",
              "        `last modified: ${\n",
              "            file.lastModifiedDate ? file.lastModifiedDate.toLocaleDateString() :\n",
              "                                    'n/a'} - `));\n",
              "    const percent = span('0% done');\n",
              "    li.appendChild(percent);\n",
              "\n",
              "    outputElement.appendChild(li);\n",
              "\n",
              "    const fileDataPromise = new Promise((resolve) => {\n",
              "      const reader = new FileReader();\n",
              "      reader.onload = (e) => {\n",
              "        resolve(e.target.result);\n",
              "      };\n",
              "      reader.readAsArrayBuffer(file);\n",
              "    });\n",
              "    // Wait for the data to be ready.\n",
              "    let fileData = yield {\n",
              "      promise: fileDataPromise,\n",
              "      response: {\n",
              "        action: 'continue',\n",
              "      }\n",
              "    };\n",
              "\n",
              "    // Use a chunked sending to avoid message size limits. See b/62115660.\n",
              "    let position = 0;\n",
              "    do {\n",
              "      const length = Math.min(fileData.byteLength - position, MAX_PAYLOAD_SIZE);\n",
              "      const chunk = new Uint8Array(fileData, position, length);\n",
              "      position += length;\n",
              "\n",
              "      const base64 = btoa(String.fromCharCode.apply(null, chunk));\n",
              "      yield {\n",
              "        response: {\n",
              "          action: 'append',\n",
              "          file: file.name,\n",
              "          data: base64,\n",
              "        },\n",
              "      };\n",
              "\n",
              "      let percentDone = fileData.byteLength === 0 ?\n",
              "          100 :\n",
              "          Math.round((position / fileData.byteLength) * 100);\n",
              "      percent.textContent = `${percentDone}% done`;\n",
              "\n",
              "    } while (position < fileData.byteLength);\n",
              "  }\n",
              "\n",
              "  // All done.\n",
              "  yield {\n",
              "    response: {\n",
              "      action: 'complete',\n",
              "    }\n",
              "  };\n",
              "}\n",
              "\n",
              "scope.google = scope.google || {};\n",
              "scope.google.colab = scope.google.colab || {};\n",
              "scope.google.colab._files = {\n",
              "  _uploadFiles,\n",
              "  _uploadFilesContinue,\n",
              "};\n",
              "})(self);\n",
              "</script> "
            ]
          },
          "metadata": {}
        },
        {
          "output_type": "stream",
          "name": "stdout",
          "text": [
            "Saving dev.csv to dev.csv\n",
            "Saving train.csv to train.csv\n"
          ]
        }
      ],
      "source": [
        "import pandas as pd\n",
        "import numpy as np\n",
        "from google.colab import files\n",
        "uploaded = files.upload()"
      ]
    },
    {
      "cell_type": "code",
      "source": [
        "triage_train_data = pd.read_csv('train.csv', sep='|')\n",
        "triage_test_data = pd.read_csv('dev.csv', sep='|')\n",
        "\n",
        "triage_train_text = triage_train_data['Text']\n",
        "triage_test_text = triage_test_data['Text']\n",
        "triage_train_label = triage_train_data['Label']\n",
        "triage_test_label = triage_test_data['Label']\n"
      ],
      "metadata": {
        "id": "ObMzQ1u2l5kX"
      },
      "execution_count": null,
      "outputs": []
    },
    {
      "cell_type": "markdown",
      "source": [
        "#Group Labels\n"
      ],
      "metadata": {
        "id": "HYGPGUyZl9hE"
      }
    },
    {
      "cell_type": "code",
      "source": [
        "# train set label groups\n",
        "label_groups = triage_train_data['Label'].groupby(triage_train_data['Label'])\n",
        "print(label_groups.count())"
      ],
      "metadata": {
        "colab": {
          "base_uri": "https://localhost:8080/"
        },
        "id": "0h1_aJ2NmE-S",
        "outputId": "4e166af5-348b-464f-87b4-d6e4245d0f39"
      },
      "execution_count": null,
      "outputs": [
        {
          "output_type": "stream",
          "name": "stdout",
          "text": [
            "Label\n",
            "0    12361\n",
            "1     8685\n",
            "Name: Label, dtype: int64\n"
          ]
        }
      ]
    },
    {
      "cell_type": "code",
      "source": [
        "# test set label groups\n",
        "label_groups = triage_test_data['Label'].groupby(triage_test_data['Label'])\n",
        "print(label_groups.count())"
      ],
      "metadata": {
        "colab": {
          "base_uri": "https://localhost:8080/"
        },
        "id": "FFUhFLt6ngyA",
        "outputId": "51d286e5-3efc-4c39-ff51-a825b539ec67"
      },
      "execution_count": null,
      "outputs": [
        {
          "output_type": "stream",
          "name": "stdout",
          "text": [
            "Label\n",
            "0    1525\n",
            "1    1048\n",
            "Name: Label, dtype: int64\n"
          ]
        }
      ]
    },
    {
      "cell_type": "code",
      "source": [
        "# print information about the train set\n",
        "print(triage_train_data.head(10))\n",
        "print(triage_train_data.shape)\n",
        "print(triage_train_data['Label'].unique())"
      ],
      "metadata": {
        "colab": {
          "base_uri": "https://localhost:8080/"
        },
        "id": "9mYQTIPdnnjT",
        "outputId": "e75b3611-3358-4b6e-c591-184d72d528e7"
      },
      "execution_count": null,
      "outputs": [
        {
          "output_type": "stream",
          "name": "stdout",
          "text": [
            "                                                Text  Label\n",
            "0  i would like to know when the national archive...      0\n",
            "1  the strongest wind force measured near the cen...      0\n",
            "2  i need help because i lost my mother and my fa...      1\n",
            "3  i would like to send some informations for me ...      0\n",
            "4  in addition it intends to concentrate on promo...      0\n",
            "5  while the total impact on grain production is ...      1\n",
            "6  researchers from the university of oxford and ...      0\n",
            "7  it will also construct the 1 000 cubic metre w...      0\n",
            "8  an important effort to enhance protection part...      1\n",
            "9  priority activities of the organisation includ...      0\n",
            "(21046, 2)\n",
            "[0 1]\n"
          ]
        }
      ]
    },
    {
      "cell_type": "code",
      "source": [
        "# print information about the test set\n",
        "print(triage_test_data.head(10))\n",
        "print(triage_test_data.shape)\n",
        "print(triage_test_data['Label'].unique())"
      ],
      "metadata": {
        "colab": {
          "base_uri": "https://localhost:8080/"
        },
        "id": "EsaXFyxRnpv8",
        "outputId": "eed227a0-a6fc-4d6c-d41b-c62f5d00f1e8"
      },
      "execution_count": null,
      "outputs": [
        {
          "output_type": "stream",
          "name": "stdout",
          "text": [
            "                                                Text  Label\n",
            "0  the tremor measured 5 8 on the richter scale t...      0\n",
            "1  in trincomalee where nearly 361 people died th...      1\n",
            "2  i would like to know if someone did not go to ...      0\n",
            "3         holy moley this storm is going to be scary      0\n",
            "4  small grants programme is not eligible to fund...      0\n",
            "5  an analysis of meteosat satellite imagery noaa...      0\n",
            "6                   notes this message is incomplete      0\n",
            "7  this has greatly improved the condition of cro...      0\n",
            "8  i make you to know that now the sms service 46...      0\n",
            "9  i am in the street i have a house all my cards...      0\n",
            "(2573, 2)\n",
            "[0 1]\n"
          ]
        }
      ]
    },
    {
      "cell_type": "markdown",
      "source": [
        "#Data set is already split between train and test sets. \n",
        "\n"
      ],
      "metadata": {
        "id": "8EyaS94gnu_e"
      }
    },
    {
      "cell_type": "markdown",
      "source": [
        "#BOW "
      ],
      "metadata": {
        "id": "asCpm1BX0lxc"
      }
    },
    {
      "cell_type": "code",
      "source": [
        "from sklearn.feature_extraction.text import CountVectorizer\n",
        "from sklearn.model_selection import train_test_split\n",
        "\n",
        "# Vectorization\n",
        "vectorizer = CountVectorizer()\n",
        "Xtrain_data_vectorized = vectorizer.fit_transform(triage_train_text.values.astype('U'))\n",
        "Xtest_data_vectorized = vectorizer.transform(triage_test_text.values.astype('U'))\n",
        "\n"
      ],
      "metadata": {
        "id": "orJfFGmPuC4r"
      },
      "execution_count": null,
      "outputs": []
    },
    {
      "cell_type": "markdown",
      "source": [
        "#Neural Network Model"
      ],
      "metadata": {
        "id": "xf52aeq00qAz"
      }
    },
    {
      "cell_type": "code",
      "source": [
        "from sklearn.neural_network import MLPClassifier\n",
        "\n",
        "clf = MLPClassifier(solver='lbfgs', alpha=1e-5,\n",
        "                    hidden_layer_sizes=(5, 2), max_iter=1000000, random_state=1)\n",
        "\n",
        "clf.fit(Xtrain_data_vectorized, triage_train_label )"
      ],
      "metadata": {
        "colab": {
          "base_uri": "https://localhost:8080/"
        },
        "id": "Frgp4Sp1n28N",
        "outputId": "eb81ba31-9740-443f-ceb9-9b0723929f2b"
      },
      "execution_count": null,
      "outputs": [
        {
          "output_type": "execute_result",
          "data": {
            "text/plain": [
              "MLPClassifier(alpha=1e-05, hidden_layer_sizes=(5, 2), max_iter=1000000,\n",
              "              random_state=1, solver='lbfgs')"
            ]
          },
          "metadata": {},
          "execution_count": 8
        }
      ]
    },
    {
      "cell_type": "code",
      "source": [
        "from sklearn import metrics\n",
        "\n",
        "\n",
        "predicted = clf.predict(Xtest_data_vectorized)\n",
        "\n",
        "display (metrics.accuracy_score(triage_test_label, predicted))\n",
        "\n",
        "display (metrics.confusion_matrix(triage_test_label, predicted))\n",
        "\n",
        "display (metrics.f1_score(triage_test_label, predicted))\n",
        "\n",
        "display (metrics.recall_score(triage_test_label, predicted))\n"
      ],
      "metadata": {
        "colab": {
          "base_uri": "https://localhost:8080/",
          "height": 104
        },
        "id": "VuOBsk0goScF",
        "outputId": "98086fca-be09-4f1f-adc1-c22d0564a611"
      },
      "execution_count": null,
      "outputs": [
        {
          "output_type": "display_data",
          "data": {
            "text/plain": [
              "0.6937427127866304"
            ]
          },
          "metadata": {}
        },
        {
          "output_type": "display_data",
          "data": {
            "text/plain": [
              "array([[1118,  407],\n",
              "       [ 381,  667]])"
            ]
          },
          "metadata": {}
        },
        {
          "output_type": "display_data",
          "data": {
            "text/plain": [
              "0.6286522148916116"
            ]
          },
          "metadata": {}
        },
        {
          "output_type": "display_data",
          "data": {
            "text/plain": [
              "0.6364503816793893"
            ]
          },
          "metadata": {}
        }
      ]
    },
    {
      "cell_type": "markdown",
      "source": [
        "#BOW and Tf-Idf"
      ],
      "metadata": {
        "id": "O1YSJvUF1Cuk"
      }
    },
    {
      "cell_type": "code",
      "source": [
        "# Fit and transform X_train using Tfidf Vectorizer with default parameters\n",
        "from sklearn.feature_extraction.text import TfidfVectorizer\n",
        "vectorizer = TfidfVectorizer()\n",
        "\n",
        "Xtrain_data_tfidf = vectorizer.fit_transform(triage_train_text.values.astype('U'))\n",
        "Xtest_data_tfidf = vectorizer.transform(triage_test_text.values.astype('U'))\n",
        "\n",
        "\n",
        "print('tfidf train shape:', Xtrain_data_tfidf.shape)\n",
        "# (# training docs, # of unique vocab)\n",
        "print('tfidf train type:', Xtrain_data_tfidf.dtype)\n",
        "\n",
        "print('\\n', Xtrain_data_tfidf)\n"
      ],
      "metadata": {
        "colab": {
          "base_uri": "https://localhost:8080/"
        },
        "id": "wGqGau0l1Jb_",
        "outputId": "6e48627e-8f24-41ee-aca6-52490b67a91d"
      },
      "execution_count": null,
      "outputs": [
        {
          "output_type": "stream",
          "name": "stdout",
          "text": [
            "tfidf train shape: (21046, 31211)\n",
            "tfidf train type: float64\n",
            "\n",
            "   (0, 30642)\t0.2954894475651658\n",
            "  (0, 3878)\t0.42690764510139395\n",
            "  (0, 30473)\t0.22140206075187935\n",
            "  (0, 2795)\t0.5177012051739505\n",
            "  (0, 18980)\t0.32013914230668744\n",
            "  (0, 27787)\t0.09063139129711087\n",
            "  (0, 30382)\t0.2746355260857302\n",
            "  (0, 15791)\t0.25622105181925453\n",
            "  (0, 28122)\t0.21995840228161678\n",
            "  (0, 16583)\t0.23692939437884228\n",
            "  (0, 30683)\t0.2389731843195103\n",
            "  (1, 1456)\t0.17246060313592979\n",
            "  (1, 12571)\t0.23359158773504177\n",
            "  (1, 30557)\t0.0797152711905626\n",
            "  (1, 13464)\t0.1639933157677384\n",
            "  (1, 20957)\t0.15459738024329572\n",
            "  (1, 15687)\t0.17710863610337899\n",
            "  (1, 770)\t0.20858671840634693\n",
            "  (1, 672)\t0.1982499528434742\n",
            "  (1, 24645)\t0.31486584434424025\n",
            "  (1, 3820)\t0.5231983414873964\n",
            "  (1, 3075)\t0.08781602814358155\n",
            "  (1, 30130)\t0.09942666546452114\n",
            "  (1, 19375)\t0.11029734793874252\n",
            "  (1, 8150)\t0.20704117850532255\n",
            "  :\t:\n",
            "  (21043, 14767)\t0.21410632588611136\n",
            "  (21044, 14328)\t0.5126324608835391\n",
            "  (21044, 13438)\t0.43135771996754263\n",
            "  (21044, 26461)\t0.4162035941583594\n",
            "  (21044, 13813)\t0.3801053519396638\n",
            "  (21044, 2799)\t0.15828580205188825\n",
            "  (21044, 18504)\t0.26387482278263275\n",
            "  (21044, 10596)\t0.2853571035486539\n",
            "  (21044, 14065)\t0.10130564399707355\n",
            "  (21044, 30557)\t0.17152745424929872\n",
            "  (21044, 19821)\t0.1049753781583029\n",
            "  (21044, 27787)\t0.08133659845075587\n",
            "  (21045, 23901)\t0.4448224156291602\n",
            "  (21045, 19439)\t0.37505450647322036\n",
            "  (21045, 16072)\t0.35747790248629774\n",
            "  (21045, 28752)\t0.3246328037121309\n",
            "  (21045, 26652)\t0.2756748687516781\n",
            "  (21045, 14629)\t0.211707956293237\n",
            "  (21045, 2871)\t0.22953556989446366\n",
            "  (21045, 13042)\t0.22168244591397065\n",
            "  (21045, 6083)\t0.21911375656090606\n",
            "  (21045, 30398)\t0.17507846811016178\n",
            "  (21045, 22690)\t0.2187589176961056\n",
            "  (21045, 22982)\t0.23838579828536532\n",
            "  (21045, 3075)\t0.1493221009024443\n"
          ]
        }
      ]
    },
    {
      "cell_type": "markdown",
      "source": [
        "#Neural Network Model with TfIdf"
      ],
      "metadata": {
        "id": "5_Lc4N-319FK"
      }
    },
    {
      "cell_type": "code",
      "source": [
        "from sklearn.neural_network import MLPClassifier\n",
        "clf = MLPClassifier(solver='lbfgs', alpha=1e-5,\n",
        "                    hidden_layer_sizes=(5, 2), max_iter=1000000, random_state=42)\n",
        "\n",
        "clf.fit(Xtrain_data_tfidf, triage_train_label )"
      ],
      "metadata": {
        "id": "6jXgSFdf17qz",
        "colab": {
          "base_uri": "https://localhost:8080/"
        },
        "outputId": "3568692c-50cd-482b-972d-57fe4eeb12fb"
      },
      "execution_count": null,
      "outputs": [
        {
          "output_type": "execute_result",
          "data": {
            "text/plain": [
              "MLPClassifier(alpha=1e-05, hidden_layer_sizes=(5, 2), max_iter=1000000,\n",
              "              random_state=42, solver='lbfgs')"
            ]
          },
          "metadata": {},
          "execution_count": 11
        }
      ]
    },
    {
      "cell_type": "code",
      "source": [
        "from sklearn import metrics\n",
        "predicted = clf.predict(Xtest_data_tfidf)\n",
        "\n",
        "display (metrics.accuracy_score(triage_test_label, predicted))\n",
        "\n",
        "display (metrics.confusion_matrix(triage_test_label, predicted))\n",
        "\n",
        "display (metrics.f1_score(triage_test_label, predicted))\n",
        "\n",
        "display (metrics.recall_score(triage_test_label, predicted))"
      ],
      "metadata": {
        "colab": {
          "base_uri": "https://localhost:8080/",
          "height": 104
        },
        "id": "bMX3CUah2STv",
        "outputId": "b00baaa3-bb46-43ad-b582-0021797da7e9"
      },
      "execution_count": null,
      "outputs": [
        {
          "output_type": "display_data",
          "data": {
            "text/plain": [
              "0.7582588418188885"
            ]
          },
          "metadata": {}
        },
        {
          "output_type": "display_data",
          "data": {
            "text/plain": [
              "array([[1212,  313],\n",
              "       [ 309,  739]])"
            ]
          },
          "metadata": {}
        },
        {
          "output_type": "display_data",
          "data": {
            "text/plain": [
              "0.7038095238095239"
            ]
          },
          "metadata": {}
        },
        {
          "output_type": "display_data",
          "data": {
            "text/plain": [
              "0.7051526717557252"
            ]
          },
          "metadata": {}
        }
      ]
    }
  ]
}