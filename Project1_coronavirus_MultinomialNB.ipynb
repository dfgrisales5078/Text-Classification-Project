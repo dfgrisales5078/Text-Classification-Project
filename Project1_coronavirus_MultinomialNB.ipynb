{
  "nbformat": 4,
  "nbformat_minor": 0,
  "metadata": {
    "colab": {
      "provenance": [],
      "machine_shape": "hm",
      "authorship_tag": "ABX9TyPd94QBVhJTlRG1/Q8yJCyD"
    },
    "kernelspec": {
      "name": "python3",
      "display_name": "Python 3"
    },
    "language_info": {
      "name": "python"
    },
    "gpuClass": "standard"
  },
  "cells": [
    {
      "cell_type": "markdown",
      "source": [
        "# Coronavirus Data Set\n",
        "\n",
        "#### dev.csv is the test data, train.csv is the train data"
      ],
      "metadata": {
        "id": "NfB_u7RYa28m"
      }
    },
    {
      "cell_type": "code",
      "execution_count": 1,
      "metadata": {
        "id": "kGXyzgbmilIP",
        "colab": {
          "base_uri": "https://localhost:8080/",
          "height": 108
        },
        "outputId": "14eaa6b8-3921-46cd-8600-3391fc4a16a3"
      },
      "outputs": [
        {
          "output_type": "display_data",
          "data": {
            "text/plain": [
              "<IPython.core.display.HTML object>"
            ],
            "text/html": [
              "\n",
              "     <input type=\"file\" id=\"files-741eeb39-98a2-4992-8db4-a5a7a82af407\" name=\"files[]\" multiple disabled\n",
              "        style=\"border:none\" />\n",
              "     <output id=\"result-741eeb39-98a2-4992-8db4-a5a7a82af407\">\n",
              "      Upload widget is only available when the cell has been executed in the\n",
              "      current browser session. Please rerun this cell to enable.\n",
              "      </output>\n",
              "      <script>// Copyright 2017 Google LLC\n",
              "//\n",
              "// Licensed under the Apache License, Version 2.0 (the \"License\");\n",
              "// you may not use this file except in compliance with the License.\n",
              "// You may obtain a copy of the License at\n",
              "//\n",
              "//      http://www.apache.org/licenses/LICENSE-2.0\n",
              "//\n",
              "// Unless required by applicable law or agreed to in writing, software\n",
              "// distributed under the License is distributed on an \"AS IS\" BASIS,\n",
              "// WITHOUT WARRANTIES OR CONDITIONS OF ANY KIND, either express or implied.\n",
              "// See the License for the specific language governing permissions and\n",
              "// limitations under the License.\n",
              "\n",
              "/**\n",
              " * @fileoverview Helpers for google.colab Python module.\n",
              " */\n",
              "(function(scope) {\n",
              "function span(text, styleAttributes = {}) {\n",
              "  const element = document.createElement('span');\n",
              "  element.textContent = text;\n",
              "  for (const key of Object.keys(styleAttributes)) {\n",
              "    element.style[key] = styleAttributes[key];\n",
              "  }\n",
              "  return element;\n",
              "}\n",
              "\n",
              "// Max number of bytes which will be uploaded at a time.\n",
              "const MAX_PAYLOAD_SIZE = 100 * 1024;\n",
              "\n",
              "function _uploadFiles(inputId, outputId) {\n",
              "  const steps = uploadFilesStep(inputId, outputId);\n",
              "  const outputElement = document.getElementById(outputId);\n",
              "  // Cache steps on the outputElement to make it available for the next call\n",
              "  // to uploadFilesContinue from Python.\n",
              "  outputElement.steps = steps;\n",
              "\n",
              "  return _uploadFilesContinue(outputId);\n",
              "}\n",
              "\n",
              "// This is roughly an async generator (not supported in the browser yet),\n",
              "// where there are multiple asynchronous steps and the Python side is going\n",
              "// to poll for completion of each step.\n",
              "// This uses a Promise to block the python side on completion of each step,\n",
              "// then passes the result of the previous step as the input to the next step.\n",
              "function _uploadFilesContinue(outputId) {\n",
              "  const outputElement = document.getElementById(outputId);\n",
              "  const steps = outputElement.steps;\n",
              "\n",
              "  const next = steps.next(outputElement.lastPromiseValue);\n",
              "  return Promise.resolve(next.value.promise).then((value) => {\n",
              "    // Cache the last promise value to make it available to the next\n",
              "    // step of the generator.\n",
              "    outputElement.lastPromiseValue = value;\n",
              "    return next.value.response;\n",
              "  });\n",
              "}\n",
              "\n",
              "/**\n",
              " * Generator function which is called between each async step of the upload\n",
              " * process.\n",
              " * @param {string} inputId Element ID of the input file picker element.\n",
              " * @param {string} outputId Element ID of the output display.\n",
              " * @return {!Iterable<!Object>} Iterable of next steps.\n",
              " */\n",
              "function* uploadFilesStep(inputId, outputId) {\n",
              "  const inputElement = document.getElementById(inputId);\n",
              "  inputElement.disabled = false;\n",
              "\n",
              "  const outputElement = document.getElementById(outputId);\n",
              "  outputElement.innerHTML = '';\n",
              "\n",
              "  const pickedPromise = new Promise((resolve) => {\n",
              "    inputElement.addEventListener('change', (e) => {\n",
              "      resolve(e.target.files);\n",
              "    });\n",
              "  });\n",
              "\n",
              "  const cancel = document.createElement('button');\n",
              "  inputElement.parentElement.appendChild(cancel);\n",
              "  cancel.textContent = 'Cancel upload';\n",
              "  const cancelPromise = new Promise((resolve) => {\n",
              "    cancel.onclick = () => {\n",
              "      resolve(null);\n",
              "    };\n",
              "  });\n",
              "\n",
              "  // Wait for the user to pick the files.\n",
              "  const files = yield {\n",
              "    promise: Promise.race([pickedPromise, cancelPromise]),\n",
              "    response: {\n",
              "      action: 'starting',\n",
              "    }\n",
              "  };\n",
              "\n",
              "  cancel.remove();\n",
              "\n",
              "  // Disable the input element since further picks are not allowed.\n",
              "  inputElement.disabled = true;\n",
              "\n",
              "  if (!files) {\n",
              "    return {\n",
              "      response: {\n",
              "        action: 'complete',\n",
              "      }\n",
              "    };\n",
              "  }\n",
              "\n",
              "  for (const file of files) {\n",
              "    const li = document.createElement('li');\n",
              "    li.append(span(file.name, {fontWeight: 'bold'}));\n",
              "    li.append(span(\n",
              "        `(${file.type || 'n/a'}) - ${file.size} bytes, ` +\n",
              "        `last modified: ${\n",
              "            file.lastModifiedDate ? file.lastModifiedDate.toLocaleDateString() :\n",
              "                                    'n/a'} - `));\n",
              "    const percent = span('0% done');\n",
              "    li.appendChild(percent);\n",
              "\n",
              "    outputElement.appendChild(li);\n",
              "\n",
              "    const fileDataPromise = new Promise((resolve) => {\n",
              "      const reader = new FileReader();\n",
              "      reader.onload = (e) => {\n",
              "        resolve(e.target.result);\n",
              "      };\n",
              "      reader.readAsArrayBuffer(file);\n",
              "    });\n",
              "    // Wait for the data to be ready.\n",
              "    let fileData = yield {\n",
              "      promise: fileDataPromise,\n",
              "      response: {\n",
              "        action: 'continue',\n",
              "      }\n",
              "    };\n",
              "\n",
              "    // Use a chunked sending to avoid message size limits. See b/62115660.\n",
              "    let position = 0;\n",
              "    do {\n",
              "      const length = Math.min(fileData.byteLength - position, MAX_PAYLOAD_SIZE);\n",
              "      const chunk = new Uint8Array(fileData, position, length);\n",
              "      position += length;\n",
              "\n",
              "      const base64 = btoa(String.fromCharCode.apply(null, chunk));\n",
              "      yield {\n",
              "        response: {\n",
              "          action: 'append',\n",
              "          file: file.name,\n",
              "          data: base64,\n",
              "        },\n",
              "      };\n",
              "\n",
              "      let percentDone = fileData.byteLength === 0 ?\n",
              "          100 :\n",
              "          Math.round((position / fileData.byteLength) * 100);\n",
              "      percent.textContent = `${percentDone}% done`;\n",
              "\n",
              "    } while (position < fileData.byteLength);\n",
              "  }\n",
              "\n",
              "  // All done.\n",
              "  yield {\n",
              "    response: {\n",
              "      action: 'complete',\n",
              "    }\n",
              "  };\n",
              "}\n",
              "\n",
              "scope.google = scope.google || {};\n",
              "scope.google.colab = scope.google.colab || {};\n",
              "scope.google.colab._files = {\n",
              "  _uploadFiles,\n",
              "  _uploadFilesContinue,\n",
              "};\n",
              "})(self);\n",
              "</script> "
            ]
          },
          "metadata": {}
        },
        {
          "output_type": "stream",
          "name": "stdout",
          "text": [
            "Saving dev.csv to dev.csv\n",
            "Saving train.csv to train.csv\n"
          ]
        }
      ],
      "source": [
        "import pandas as pd\n",
        "import numpy as np\n",
        "from google.colab import files\n",
        "uploaded = files.upload()"
      ]
    },
    {
      "cell_type": "code",
      "source": [
        "coronavirus_train_data = pd.read_csv('train.csv',sep='|')\n",
        "coronavirus_test_data = pd.read_csv('dev.csv',sep='|')"
      ],
      "metadata": {
        "id": "nGtROj88j65w"
      },
      "execution_count": 2,
      "outputs": []
    },
    {
      "cell_type": "markdown",
      "source": [
        "# Group Labels"
      ],
      "metadata": {
        "id": "ztR5TDE_ped-"
      }
    },
    {
      "cell_type": "code",
      "source": [
        "# train set label groups\n",
        "label_groups = coronavirus_train_data['Label'].groupby(coronavirus_train_data['Label'])\n",
        "print(label_groups.count())"
      ],
      "metadata": {
        "id": "dHztBQXlxBna",
        "colab": {
          "base_uri": "https://localhost:8080/"
        },
        "outputId": "e1fa443b-c778-4955-9d28-a96ed41ec66d"
      },
      "execution_count": 3,
      "outputs": [
        {
          "output_type": "stream",
          "name": "stdout",
          "text": [
            "Label\n",
            "0    38837\n",
            "1    41163\n",
            "Name: Label, dtype: int64\n"
          ]
        }
      ]
    },
    {
      "cell_type": "code",
      "source": [
        "# test set label groups\n",
        "label_groups = coronavirus_test_data['Label'].groupby(coronavirus_test_data['Label'])\n",
        "print(label_groups.count())"
      ],
      "metadata": {
        "id": "xaDx91VNxmA_",
        "colab": {
          "base_uri": "https://localhost:8080/"
        },
        "outputId": "6ef98956-8fc2-462e-b419-fc5361264655"
      },
      "execution_count": 4,
      "outputs": [
        {
          "output_type": "stream",
          "name": "stdout",
          "text": [
            "Label\n",
            "0    4963\n",
            "1    5037\n",
            "Name: Label, dtype: int64\n"
          ]
        }
      ]
    },
    {
      "cell_type": "markdown",
      "source": [
        "# Data set is already split betweem train and test sets."
      ],
      "metadata": {
        "id": "t6wCO074vOBm"
      }
    },
    {
      "cell_type": "markdown",
      "source": [
        "# BOW and Tf-Idf"
      ],
      "metadata": {
        "id": "ez5Hs38cvgUs"
      }
    },
    {
      "cell_type": "code",
      "source": [
        "# Fit and transform X_train using Tfidf Vectorizer with default parameters\n",
        "from sklearn.feature_extraction.text import TfidfVectorizer\n",
        "vectorizer = TfidfVectorizer()\n",
        "\n",
        "X_train = coronavirus_train_data['Text']\n",
        "y_train = coronavirus_train_data['Label']\n",
        "\n",
        "X_test = coronavirus_test_data['Text']\n",
        "y_test = coronavirus_test_data['Label']\n",
        "\n",
        "X_train_tfidf = vectorizer.fit_transform(X_train.values.astype('U')).toarray() # form of BOW\n",
        "\n",
        "X_test_tfidf = vectorizer.transform(X_test.values.astype('U')).toarray()"
      ],
      "metadata": {
        "id": "j7qptYazvOTo"
      },
      "execution_count": 5,
      "outputs": []
    },
    {
      "cell_type": "markdown",
      "source": [
        "# Model or Classifier\n",
        "\n",
        "Classification: build a model (here using Naive Bayes) on train data and labels then predict the labels of the test set"
      ],
      "metadata": {
        "id": "-dMQEpOg5dY5"
      }
    },
    {
      "cell_type": "code",
      "source": [
        "\n",
        "# train = build the model (fit) on the train set\n",
        "from sklearn.naive_bayes import MultinomialNB\n",
        "clf = MultinomialNB()\n",
        "clf.fit(X_train_tfidf, y_train)  # model building phase\n",
        "    \n",
        "# test results = predict on test set data, to get predicted labels\n",
        "predicted = clf.predict(X_test_tfidf)\n",
        "# print(predicted)"
      ],
      "metadata": {
        "id": "T8DB6Ohk5fV_"
      },
      "execution_count": 6,
      "outputs": []
    },
    {
      "cell_type": "code",
      "source": [
        "from sklearn import metrics\n",
        "\n",
        "display (metrics.accuracy_score(y_test, predicted))\n",
        "\n",
        "display (metrics.confusion_matrix(y_test, predicted))\n",
        "\n",
        "display (metrics.precision_score(y_test, predicted))\n",
        "\n",
        "display (metrics.recall_score(y_test, predicted))\n"
      ],
      "metadata": {
        "colab": {
          "base_uri": "https://localhost:8080/",
          "height": 104
        },
        "id": "bdUaN5Ho57BG",
        "outputId": "6fb50c66-3c67-4127-f778-2df5e968cf8b"
      },
      "execution_count": 7,
      "outputs": [
        {
          "output_type": "display_data",
          "data": {
            "text/plain": [
              "0.8036"
            ]
          },
          "metadata": {}
        },
        {
          "output_type": "display_data",
          "data": {
            "text/plain": [
              "array([[4069,  894],\n",
              "       [1070, 3967]])"
            ]
          },
          "metadata": {}
        },
        {
          "output_type": "display_data",
          "data": {
            "text/plain": [
              "0.8160872248508537"
            ]
          },
          "metadata": {}
        },
        {
          "output_type": "display_data",
          "data": {
            "text/plain": [
              "0.787571967440937"
            ]
          },
          "metadata": {}
        }
      ]
    },
    {
      "cell_type": "markdown",
      "source": [
        "# Count Vectorizer"
      ],
      "metadata": {
        "id": "-XjqD5RcrXlU"
      }
    },
    {
      "cell_type": "code",
      "source": [
        "from sklearn.feature_extraction.text import CountVectorizer\n",
        "\n",
        "# use count vectorizer to get the BOW matrix with frequency of term per doc\n",
        "count_vectorizer = CountVectorizer()\n",
        "\n",
        "# train count vectorizer\n",
        "x_train_count_vectorizer = count_vectorizer.fit_transform(X_train.values.astype('U'))\n",
        "\n",
        "# test count vectorizer\n",
        "x_test_count_vectorizer = count_vectorizer.transform(X_test.values.astype('U'))\n"
      ],
      "metadata": {
        "id": "jEJ-zVSsrXzt"
      },
      "execution_count": 8,
      "outputs": []
    },
    {
      "cell_type": "markdown",
      "source": [
        "# Model or Classifier\n",
        "\n",
        "Classification: build a model (here using Naive Bayes) on train data and labels then predict the labels of the test set"
      ],
      "metadata": {
        "id": "vGrD9wxJsW07"
      }
    },
    {
      "cell_type": "code",
      "source": [
        "# train = build the model (fit) on the train set\n",
        "from sklearn.naive_bayes import MultinomialNB\n",
        "clf = MultinomialNB()\n",
        "clf.fit(x_train_count_vectorizer, y_train)  # model building phase\n",
        "    \n",
        "# test results = predict on test set data, to get predicted labels\n",
        "predicted = clf.predict(x_test_count_vectorizer)\n",
        "print(predicted)"
      ],
      "metadata": {
        "id": "4i7A94x9sXFH",
        "colab": {
          "base_uri": "https://localhost:8080/"
        },
        "outputId": "3a5144eb-14c1-4e90-d630-bb2dd63aecad"
      },
      "execution_count": 9,
      "outputs": [
        {
          "output_type": "stream",
          "name": "stdout",
          "text": [
            "[1 0 0 ... 0 1 1]\n"
          ]
        }
      ]
    },
    {
      "cell_type": "code",
      "source": [
        "from sklearn import metrics\n",
        "\n",
        "display (metrics.accuracy_score(y_test, predicted))\n",
        "\n",
        "display (metrics.confusion_matrix(y_test, predicted))\n",
        "\n",
        "display (metrics.precision_score(y_test, predicted))\n",
        "\n",
        "display (metrics.recall_score(y_test, predicted))"
      ],
      "metadata": {
        "id": "ba6pTc5osdYF",
        "colab": {
          "base_uri": "https://localhost:8080/",
          "height": 104
        },
        "outputId": "80de1e2d-69a1-46ee-b2f2-d1d6dd7285b6"
      },
      "execution_count": 10,
      "outputs": [
        {
          "output_type": "display_data",
          "data": {
            "text/plain": [
              "0.7932"
            ]
          },
          "metadata": {}
        },
        {
          "output_type": "display_data",
          "data": {
            "text/plain": [
              "array([[4025,  938],\n",
              "       [1130, 3907]])"
            ]
          },
          "metadata": {}
        },
        {
          "output_type": "display_data",
          "data": {
            "text/plain": [
              "0.8063983488132095"
            ]
          },
          "metadata": {}
        },
        {
          "output_type": "display_data",
          "data": {
            "text/plain": [
              "0.7756601151479054"
            ]
          },
          "metadata": {}
        }
      ]
    }
  ]
}